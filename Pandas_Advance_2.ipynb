{
  "nbformat": 4,
  "nbformat_minor": 0,
  "metadata": {
    "colab": {
      "provenance": [],
      "authorship_tag": "ABX9TyNHWzlZy2eAEYf7UbTCLJXX"
    },
    "kernelspec": {
      "name": "python3",
      "display_name": "Python 3"
    },
    "language_info": {
      "name": "python"
    }
  },
  "cells": [
    {
      "cell_type": "markdown",
      "source": [
        "Q1. Write a code to print the data present in the second row of the dataframe, df."
      ],
      "metadata": {
        "id": "Br5w1MeQb4nU"
      }
    },
    {
      "cell_type": "code",
      "execution_count": null,
      "metadata": {
        "id": "Lo7plrZsWPNi"
      },
      "outputs": [],
      "source": [
        "import pandas as pd\n",
        "course_name = ['Data Science', 'Machine Learning', 'Big Data', 'Data Engineer']\n",
        "duration = [2,3,6,4]\n",
        "df = pd.DataFrame(data = {'course_name' : course_name, 'duration' : duration})"
      ]
    },
    {
      "cell_type": "code",
      "source": [
        "print(df['duration'][1])"
      ],
      "metadata": {
        "colab": {
          "base_uri": "https://localhost:8080/"
        },
        "id": "9vZvgF20b80z",
        "outputId": "8bc19c51-73e1-4442-83af-9c91dcfaa764"
      },
      "execution_count": null,
      "outputs": [
        {
          "output_type": "stream",
          "name": "stdout",
          "text": [
            "3\n"
          ]
        }
      ]
    },
    {
      "cell_type": "markdown",
      "source": [
        "Q2. What is the difference between the functions loc and iloc in pandas.DataFrame?"
      ],
      "metadata": {
        "id": "gADdF0v7dBGu"
      }
    },
    {
      "cell_type": "code",
      "source": [
        "print(df.loc[:3])"
      ],
      "metadata": {
        "colab": {
          "base_uri": "https://localhost:8080/"
        },
        "id": "Z1TLsERxc3cu",
        "outputId": "cb9f3a08-eb47-4abf-8fac-416623cceda3"
      },
      "execution_count": null,
      "outputs": [
        {
          "output_type": "stream",
          "name": "stdout",
          "text": [
            "        course_name  duration\n",
            "0      Data Science         2\n",
            "1  Machine Learning         3\n",
            "2          Big Data         6\n",
            "3     Data Engineer         4\n"
          ]
        }
      ]
    },
    {
      "cell_type": "code",
      "source": [
        "print(df.iloc[:3])"
      ],
      "metadata": {
        "colab": {
          "base_uri": "https://localhost:8080/"
        },
        "id": "8uLULkGsdIp1",
        "outputId": "ce00804d-c9f6-4cca-de2e-9d8549dfe48e"
      },
      "execution_count": null,
      "outputs": [
        {
          "output_type": "stream",
          "name": "stdout",
          "text": [
            "        course_name  duration\n",
            "0      Data Science         2\n",
            "1  Machine Learning         3\n",
            "2          Big Data         6\n"
          ]
        }
      ]
    },
    {
      "cell_type": "markdown",
      "source": [
        "Q3. Reindex the given dataframe using a variable, reindex = [3,0,1,2] and store it in the variable, new_df\n",
        "then find the output for both new_df.loc[2] and new_df.iloc[2]."
      ],
      "metadata": {
        "id": "ic6gRCmYeOxi"
      }
    },
    {
      "cell_type": "code",
      "source": [
        "reindex=[3,0,1,2]\n",
        "new_df=df.iloc[reindex]\n",
        "print(new_df.loc[2])\n",
        "print(new_df.iloc[2])"
      ],
      "metadata": {
        "colab": {
          "base_uri": "https://localhost:8080/"
        },
        "id": "WfLeiwf-dMVl",
        "outputId": "909057c5-992a-423a-d2d9-9c61e24868dc"
      },
      "execution_count": null,
      "outputs": [
        {
          "output_type": "stream",
          "name": "stdout",
          "text": [
            "course_name    Big Data\n",
            "duration              6\n",
            "Name: 2, dtype: object\n",
            "course_name    Machine Learning\n",
            "duration                      3\n",
            "Name: 1, dtype: object\n"
          ]
        }
      ]
    },
    {
      "cell_type": "markdown",
      "source": [
        "When using df.loc the output came as Big Data with a duration of 6 months and when using df.iloc the output came as Machine Learning with a duration of 3 months"
      ],
      "metadata": {
        "id": "QknzbHqLIdct"
      }
    },
    {
      "cell_type": "markdown",
      "source": [
        "Q4. Write a code to find the following statistical measurements for the above dataframe df1:\n",
        "\n",
        "(i) mean of each and every column present in the dataframe.\n",
        "\n",
        "(ii) standard deviation of column, ‘column_2’"
      ],
      "metadata": {
        "id": "vCHooFEII-nC"
      }
    },
    {
      "cell_type": "code",
      "source": [
        "# Consider the below code to answer further questions:\n",
        "import pandas as pd\n",
        "import numpy as np\n",
        "columns = ['column_1', 'column_2', 'column_3', 'column_4', 'column_5', 'column_6']\n",
        "indices = [1,2,3,4,5,6]\n",
        "#Creating a dataframe:\n",
        "df1 = pd.DataFrame(np.random.rand(6,6), columns = columns, index = indices)"
      ],
      "metadata": {
        "id": "i69lGf9JI2M7"
      },
      "execution_count": null,
      "outputs": []
    },
    {
      "cell_type": "code",
      "source": [
        "df1.mean()"
      ],
      "metadata": {
        "colab": {
          "base_uri": "https://localhost:8080/",
          "height": 272
        },
        "id": "TgGr_sJbJJqB",
        "outputId": "b66840b2-7c54-44fb-ce14-606f4dc3ddd2"
      },
      "execution_count": null,
      "outputs": [
        {
          "output_type": "execute_result",
          "data": {
            "text/plain": [
              "column_1    0.701739\n",
              "column_2    0.557546\n",
              "column_3    0.491451\n",
              "column_4    0.361491\n",
              "column_5    0.542153\n",
              "column_6    0.397384\n",
              "dtype: float64"
            ],
            "text/html": [
              "<div>\n",
              "<style scoped>\n",
              "    .dataframe tbody tr th:only-of-type {\n",
              "        vertical-align: middle;\n",
              "    }\n",
              "\n",
              "    .dataframe tbody tr th {\n",
              "        vertical-align: top;\n",
              "    }\n",
              "\n",
              "    .dataframe thead th {\n",
              "        text-align: right;\n",
              "    }\n",
              "</style>\n",
              "<table border=\"1\" class=\"dataframe\">\n",
              "  <thead>\n",
              "    <tr style=\"text-align: right;\">\n",
              "      <th></th>\n",
              "      <th>0</th>\n",
              "    </tr>\n",
              "  </thead>\n",
              "  <tbody>\n",
              "    <tr>\n",
              "      <th>column_1</th>\n",
              "      <td>0.701739</td>\n",
              "    </tr>\n",
              "    <tr>\n",
              "      <th>column_2</th>\n",
              "      <td>0.557546</td>\n",
              "    </tr>\n",
              "    <tr>\n",
              "      <th>column_3</th>\n",
              "      <td>0.491451</td>\n",
              "    </tr>\n",
              "    <tr>\n",
              "      <th>column_4</th>\n",
              "      <td>0.361491</td>\n",
              "    </tr>\n",
              "    <tr>\n",
              "      <th>column_5</th>\n",
              "      <td>0.542153</td>\n",
              "    </tr>\n",
              "    <tr>\n",
              "      <th>column_6</th>\n",
              "      <td>0.397384</td>\n",
              "    </tr>\n",
              "  </tbody>\n",
              "</table>\n",
              "</div><br><label><b>dtype:</b> float64</label>"
            ]
          },
          "metadata": {},
          "execution_count": 33
        }
      ]
    },
    {
      "cell_type": "code",
      "source": [
        "df1.std()"
      ],
      "metadata": {
        "colab": {
          "base_uri": "https://localhost:8080/",
          "height": 272
        },
        "id": "vaXQ0BHWJR1_",
        "outputId": "361df2aa-c9cb-43e3-a2dc-13c23e579620"
      },
      "execution_count": null,
      "outputs": [
        {
          "output_type": "execute_result",
          "data": {
            "text/plain": [
              "column_1    0.168276\n",
              "column_2    0.231696\n",
              "column_3    0.209331\n",
              "column_4    0.264102\n",
              "column_5    0.317744\n",
              "column_6    0.286176\n",
              "dtype: float64"
            ],
            "text/html": [
              "<div>\n",
              "<style scoped>\n",
              "    .dataframe tbody tr th:only-of-type {\n",
              "        vertical-align: middle;\n",
              "    }\n",
              "\n",
              "    .dataframe tbody tr th {\n",
              "        vertical-align: top;\n",
              "    }\n",
              "\n",
              "    .dataframe thead th {\n",
              "        text-align: right;\n",
              "    }\n",
              "</style>\n",
              "<table border=\"1\" class=\"dataframe\">\n",
              "  <thead>\n",
              "    <tr style=\"text-align: right;\">\n",
              "      <th></th>\n",
              "      <th>0</th>\n",
              "    </tr>\n",
              "  </thead>\n",
              "  <tbody>\n",
              "    <tr>\n",
              "      <th>column_1</th>\n",
              "      <td>0.168276</td>\n",
              "    </tr>\n",
              "    <tr>\n",
              "      <th>column_2</th>\n",
              "      <td>0.231696</td>\n",
              "    </tr>\n",
              "    <tr>\n",
              "      <th>column_3</th>\n",
              "      <td>0.209331</td>\n",
              "    </tr>\n",
              "    <tr>\n",
              "      <th>column_4</th>\n",
              "      <td>0.264102</td>\n",
              "    </tr>\n",
              "    <tr>\n",
              "      <th>column_5</th>\n",
              "      <td>0.317744</td>\n",
              "    </tr>\n",
              "    <tr>\n",
              "      <th>column_6</th>\n",
              "      <td>0.286176</td>\n",
              "    </tr>\n",
              "  </tbody>\n",
              "</table>\n",
              "</div><br><label><b>dtype:</b> float64</label>"
            ]
          },
          "metadata": {},
          "execution_count": 34
        }
      ]
    },
    {
      "cell_type": "markdown",
      "source": [
        "Q5. Replace the data present in the second row of column, ‘column_2’ by a string variable then find the\n",
        "mean of column, column_2.\n",
        "If you are getting errors in executing it then explain why."
      ],
      "metadata": {
        "id": "wn6WEfqLpJJ5"
      }
    },
    {
      "cell_type": "code",
      "source": [
        "import pandas as pd\n",
        "import numpy as np\n",
        "\n",
        "# Sample DataFrame\n",
        "data = {\n",
        "    'column_1': [10, 20, 30, 40],\n",
        "    'column_2': [1.5, 2.5, 3.5, 4.5]\n",
        "}\n",
        "\n",
        "df = pd.DataFrame(data)\n",
        "\n",
        "# Replace the second row (index 1) of 'column_2' with a string\n",
        "df.loc[1, 'column_2'] = 'invalid_data'\n",
        "\n",
        "# Try to calculate mean of column_2\n",
        "try:\n",
        "    mean_val = pd.to_numeric(df['column_2'], errors='coerce').mean()\n",
        "    print(\"Mean of column_2 (excluding invalid entries):\", mean_val)\n",
        "except Exception as e:\n",
        "    print(\"Error calculating mean:\", e)"
      ],
      "metadata": {
        "id": "EsFvvieTQxut",
        "colab": {
          "base_uri": "https://localhost:8080/"
        },
        "outputId": "620ae369-fa4c-4a7e-fc09-61f0b266792d"
      },
      "execution_count": null,
      "outputs": [
        {
          "output_type": "stream",
          "name": "stdout",
          "text": [
            "Mean of column_2 (excluding invalid entries): 3.1666666666666665\n"
          ]
        },
        {
          "output_type": "stream",
          "name": "stderr",
          "text": [
            "<ipython-input-38-1ba2b530fee9>:13: FutureWarning: Setting an item of incompatible dtype is deprecated and will raise an error in a future version of pandas. Value 'invalid_data' has dtype incompatible with float64, please explicitly cast to a compatible dtype first.\n",
            "  df.loc[1, 'column_2'] = 'invalid_data'\n"
          ]
        }
      ]
    },
    {
      "cell_type": "markdown",
      "source": [
        "Q6. What do you understand about the windows function in pandas and list the types of windows\n",
        "functions?"
      ],
      "metadata": {
        "id": "bJDQgHMjrw7Z"
      }
    },
    {
      "cell_type": "code",
      "source": [
        "import pandas as pd\n",
        "\n",
        "data = pd.Series([10, 20, 30, 40, 50])\n",
        "\n",
        "# Rolling mean with window size 3\n",
        "rolling_mean = data.rolling(window=3).mean()\n",
        "\n",
        "# Expanding mean\n",
        "expanding_mean = data.expanding().mean()\n",
        "\n",
        "# Exponentially weighted moving average\n",
        "ewm_mean = data.ewm(span=3).mean()\n",
        "\n",
        "print(rolling_mean)\n",
        "\n",
        "print(expanding_mean)\n",
        "\n",
        "print(ewm_mean)"
      ],
      "metadata": {
        "colab": {
          "base_uri": "https://localhost:8080/"
        },
        "id": "5hC5IM0dqiWW",
        "outputId": "ca74dd21-2200-454a-f474-432e32dfed22"
      },
      "execution_count": null,
      "outputs": [
        {
          "output_type": "stream",
          "name": "stdout",
          "text": [
            "0     NaN\n",
            "1     NaN\n",
            "2    20.0\n",
            "3    30.0\n",
            "4    40.0\n",
            "dtype: float64\n",
            "0    10.0\n",
            "1    15.0\n",
            "2    20.0\n",
            "3    25.0\n",
            "4    30.0\n",
            "dtype: float64\n",
            "0    10.000000\n",
            "1    16.666667\n",
            "2    24.285714\n",
            "3    32.666667\n",
            "4    41.612903\n",
            "dtype: float64\n"
          ]
        }
      ]
    },
    {
      "cell_type": "markdown",
      "source": [
        "Q7. Write a code to print only the current month and year at the time of answering this question."
      ],
      "metadata": {
        "id": "NhS9DL12sZEY"
      }
    },
    {
      "cell_type": "code",
      "source": [
        "from datetime import datetime\n",
        "\n",
        "# Get current date and time\n",
        "now = datetime.now()\n",
        "\n",
        "# Extract and print month and year\n",
        "print(now.strftime(\"%B %Y\"))  # Example output: May 2025"
      ],
      "metadata": {
        "colab": {
          "base_uri": "https://localhost:8080/"
        },
        "id": "pbW68x16r_nP",
        "outputId": "a090d029-e2a5-442a-b7b5-12e829c6c7df"
      },
      "execution_count": null,
      "outputs": [
        {
          "output_type": "stream",
          "name": "stdout",
          "text": [
            "May 2025\n"
          ]
        }
      ]
    },
    {
      "cell_type": "markdown",
      "source": [
        "Q8. Write a Python program that takes in two dates as input (in the format YYYY-MM-DD) and\n",
        "calculates the difference between them in days, hours, and minutes using Pandas time delta. The\n",
        "program should prompt the user to enter the dates and display the result."
      ],
      "metadata": {
        "id": "Xh8blOuEsn1v"
      }
    },
    {
      "cell_type": "code",
      "source": [
        "import pandas as pd\n",
        "\n",
        "d1 = pd.to_datetime(input(\"Enter first date (YYYY-MM-DD): \"))\n",
        "d2 = pd.to_datetime(input(\"Enter second date (YYYY-MM-DD): \"))\n",
        "delta = abs(d2 - d1)\n",
        "\n",
        "print(f\"\\nDays: {delta.days}\")\n",
        "print(f\"Hours: {int(delta.total_seconds() // 3600)}\")\n",
        "print(f\"Minutes: {int(delta.total_seconds() // 60)}\")"
      ],
      "metadata": {
        "colab": {
          "base_uri": "https://localhost:8080/"
        },
        "id": "lWhigwW1shAt",
        "outputId": "e5dfb985-0837-4a65-96b7-7ea7282d6a3f"
      },
      "execution_count": null,
      "outputs": [
        {
          "output_type": "stream",
          "name": "stdout",
          "text": [
            "Enter first date (YYYY-MM-DD): 2023-08-11\n",
            "Enter second date (YYYY-MM-DD): 2024-09-10\n",
            "\n",
            "Days: 396\n",
            "Hours: 9504\n",
            "Minutes: 570240\n"
          ]
        }
      ]
    },
    {
      "cell_type": "markdown",
      "source": [
        "Q9. Write a Python program that reads a CSV file containing categorical data and converts a specified\n",
        "column to a categorical data type. The program should prompt the user to enter the file path, column\n",
        "name, and category order, and then display the sorted data."
      ],
      "metadata": {
        "id": "mv5-uMxws_IF"
      }
    },
    {
      "cell_type": "code",
      "source": [
        "import pandas as pd\n",
        "\n",
        "def get_file_path():\n",
        "    return input(\"Enter the path to the CSV file: \").strip()\n",
        "\n",
        "def get_column_name(df):\n",
        "    print(\"\\nAvailable columns:\", ', '.join(df.columns))\n",
        "    return input(\"Enter the name of the column to convert to categorical: \").strip()\n",
        "\n",
        "def get_category_order(unique_values):\n",
        "    print(\"\\nUnique values in the column:\", ', '.join(map(str, unique_values)))\n",
        "    user_input = input(\"Enter the desired category order as comma-separated values: \")\n",
        "    return [val.strip() for val in user_input.split(',')]\n",
        "\n",
        "def convert_to_categorical(df, column, categories):\n",
        "    df[column] = pd.Categorical(df[column], categories=categories, ordered=True)\n",
        "    return df.sort_values(by=column)\n",
        "\n",
        "def main():\n",
        "    try:\n",
        "        # Step 1: Load CSV\n",
        "        file_path = get_file_path()\n",
        "        df = pd.read_csv(file_path)\n",
        "\n",
        "        # Step 2: Get column name and check validity\n",
        "        column = get_column_name(df)\n",
        "        if column not in df.columns:\n",
        "            print(f\"Column '{column}' does not exist in the dataset.\")\n",
        "            return\n",
        "\n",
        "        # Step 3: Get category order\n",
        "        unique_vals = df[column].dropna().unique()\n",
        "        category_order = get_category_order(unique_vals)\n",
        "\n",
        "        # Step 4: Convert and sort\n",
        "        sorted_df = convert_to_categorical(df, column, category_order)\n",
        "\n",
        "        # Step 5: Show result\n",
        "        print(\"\\nData sorted by categorical column:\")\n",
        "        print(sorted_df)\n",
        "\n",
        "    except FileNotFoundError:\n",
        "        print(\"The file path provided does not exist.\")\n",
        "    except pd.errors.EmptyDataError:\n",
        "        print(\"The CSV file is empty.\")\n",
        "    except pd.errors.ParserError:\n",
        "        print(\"The file could not be parsed. Check for formatting issues.\")\n",
        "    except Exception as e:\n",
        "        print(f\"An error occurred: {e}\")\n",
        "\n",
        "if __name__ == \"__main__\":\n",
        "    main()"
      ],
      "metadata": {
        "colab": {
          "base_uri": "https://localhost:8080/"
        },
        "id": "JZc7AS9atVtx",
        "outputId": "ef5f2a83-cc84-4729-e61d-2de76fba742f"
      },
      "execution_count": null,
      "outputs": [
        {
          "output_type": "stream",
          "name": "stdout",
          "text": [
            "Enter the path to the CSV file: file_path\n",
            "The file path provided does not exist.\n"
          ]
        }
      ]
    },
    {
      "cell_type": "markdown",
      "source": [
        "Q10. Write a Python program that reads a CSV file containing sales data for different products and\n",
        "visualizes the data using a stacked bar chart to show the sales of each product category over time. The\n",
        "program should prompt the user to enter the file path and display the chart."
      ],
      "metadata": {
        "id": "0IuZwoHwt8Vt"
      }
    },
    {
      "cell_type": "code",
      "source": [
        "import pandas as pd\n",
        "import matplotlib.pyplot as plt\n",
        "\n",
        "def main():\n",
        "    # Prompt user to enter the CSV file path\n",
        "    file_path = input(\"Enter the path to the sales CSV file: \").strip()\n",
        "\n",
        "    try:\n",
        "        # Load the CSV data into a DataFrame\n",
        "        df = pd.read_csv(file_path)\n",
        "\n",
        "        # Ensure the necessary columns exist\n",
        "        if not {'Date', 'Category', 'Sales'}.issubset(df.columns):\n",
        "            print(\"CSV file must contain 'Date', 'Category', and 'Sales' columns.\")\n",
        "            return\n",
        "\n",
        "        # Convert 'Date' to datetime format\n",
        "        df['Date'] = pd.to_datetime(df['Date'])\n",
        "\n",
        "        # Pivot the data to create a stacked format\n",
        "        pivot_df = df.pivot_table(index='Date', columns='Category', values='Sales', aggfunc='sum', fill_value=0)\n",
        "\n",
        "        # Sort by date\n",
        "        pivot_df = pivot_df.sort_index()\n",
        "\n",
        "        # Plot stacked bar chart\n",
        "        pivot_df.plot(kind='bar', stacked=True, figsize=(12, 6))\n",
        "\n",
        "        plt.title(\"Sales by Product Category Over Time\")\n",
        "        plt.xlabel(\"Date\")\n",
        "        plt.ylabel(\"Sales\")\n",
        "        plt.legend(title='Category')\n",
        "        plt.tight_layout()\n",
        "        plt.xticks(rotation=45)\n",
        "        plt.show()\n",
        "\n",
        "    except FileNotFoundError:\n",
        "        print(\"The file was not found. Please check the path and try again.\")\n",
        "    except pd.errors.EmptyDataError:\n",
        "        print(\"The file is empty or corrupted.\")\n",
        "    except Exception as e:\n",
        "        print(f\"An error occurred: {e}\")\n",
        "\n",
        "if __name__ == \"__main__\":\n",
        "    main()"
      ],
      "metadata": {
        "colab": {
          "base_uri": "https://localhost:8080/"
        },
        "id": "koGGCDmCt8l7",
        "outputId": "a2ee98fe-1c15-4962-f996-9995b94eb914"
      },
      "execution_count": null,
      "outputs": [
        {
          "output_type": "stream",
          "name": "stdout",
          "text": [
            "Enter the path to the sales CSV file: /path/sales.csv\n",
            "The file was not found. Please check the path and try again.\n"
          ]
        }
      ]
    },
    {
      "cell_type": "markdown",
      "source": [
        "Q11. You are given a CSV file containing student data that includes the student ID and their test score. Write\n",
        "a Python program that reads the CSV file, calculates the mean, median, and mode of the test scores, and\n",
        "displays the results in a table.\n",
        "The program should do the followingM\n",
        "I Prompt the user to enter the file path of the CSV file containing the student dataR\n",
        "I Read the CSV file into a Pandas DataFrameR\n",
        "I Calculate the mean, median, and mode of the test scores using Pandas toolsR\n",
        "I Display the mean, median, and mode in a table.\n",
        "Assume the CSV file contains the following columnsM\n",
        "I Student ID: The ID of the studentR\n",
        "I Test Score: The score of the student's test."
      ],
      "metadata": {
        "id": "RLhVQTaeuLBn"
      }
    },
    {
      "cell_type": "code",
      "source": [
        "import pandas as pd\n",
        "\n",
        "def main():\n",
        "    # Prompt the user for the CSV file path\n",
        "    file_path = input(\"Enter the path to the CSV file containing student data: \")\n",
        "\n",
        "    try:\n",
        "        # Read the CSV file into a Pandas DataFrame\n",
        "        df = pd.read_csv(file_path)\n",
        "\n",
        "        # Check if necessary columns exist\n",
        "        if 'Test Score' not in df.columns:\n",
        "            print(\"Error: The file must contain a 'Test Score' column.\")\n",
        "            return\n",
        "\n",
        "        # Calculate mean, median, and mode\n",
        "        mean_score = df['Test Score'].mean()\n",
        "        median_score = df['Test Score'].median()\n",
        "        mode_score = df['Test Score'].mode()\n",
        "\n",
        "        # Format the results into a DataFrame\n",
        "        results = pd.DataFrame({\n",
        "            'Statistic': ['Mean', 'Median', 'Mode'],\n",
        "            'Value': [mean_score, median_score, ', '.join(map(str, mode_score.tolist()))]\n",
        "        })\n",
        "\n",
        "        # Display the results in a table\n",
        "        print(\"\\nTest Score Statistics:\")\n",
        "        print(results.to_string(index=False))\n",
        "\n",
        "    except FileNotFoundError:\n",
        "        print(\"Error: File not found. Please check the file path and try again.\")\n",
        "    except pd.errors.EmptyDataError:\n",
        "        print(\"Error: The file is empty or not a valid CSV.\")\n",
        "    except Exception as e:\n",
        "        print(f\"An error occurred: {e}\")\n",
        "\n",
        "if __name__ == \"__main__\":\n",
        "    main()"
      ],
      "metadata": {
        "id": "e5XRGD9ut9ae",
        "colab": {
          "base_uri": "https://localhost:8080/"
        },
        "outputId": "5b8872bf-6652-46df-bf34-2db973a69626"
      },
      "execution_count": 51,
      "outputs": [
        {
          "output_type": "stream",
          "name": "stdout",
          "text": [
            "Enter the path to the CSV file containing student data: /path.csv\n",
            "Error: File not found. Please check the file path and try again.\n"
          ]
        }
      ]
    }
  ]
}