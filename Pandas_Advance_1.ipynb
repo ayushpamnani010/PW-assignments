{
  "nbformat": 4,
  "nbformat_minor": 0,
  "metadata": {
    "colab": {
      "provenance": [],
      "authorship_tag": "ABX9TyMSXUakdQeCslw9MAjQN0fT"
    },
    "kernelspec": {
      "name": "python3",
      "display_name": "Python 3"
    },
    "language_info": {
      "name": "python"
    }
  },
  "cells": [
    {
      "cell_type": "markdown",
      "source": [
        "Q1.List any five functions of the pandas library with execution."
      ],
      "metadata": {
        "id": "4GlOGrttdk0G"
      }
    },
    {
      "cell_type": "code",
      "source": [
        "import pandas as pd\n",
        "\n",
        "data=pd.read_csv('https://people.sc.fsu.edu/~jburkardt/data/csv/airtravel.csv')\n",
        "print(data.head())\n",
        "\n",
        "data = {'Name': ['Alice', 'Bob', 'Charlie'],\n",
        "        'Age': [24, 27, 22],\n",
        "        'City': ['New York', 'San Francisco', 'Los Angeles']}\n",
        "df = pd.DataFrame(data)\n",
        "\n",
        "print(df)\n",
        "\n",
        "df.head()\n",
        "\n",
        "df.tail(1)\n",
        "\n",
        "df_dropped = df.drop('City', axis=1)\n",
        "print(df_dropped)\n"
      ],
      "metadata": {
        "colab": {
          "base_uri": "https://localhost:8080/"
        },
        "id": "uPS5S2rhdn9D",
        "outputId": "9e2473d8-d876-498d-fd26-5fdc87ee4a7b"
      },
      "execution_count": 2,
      "outputs": [
        {
          "output_type": "stream",
          "name": "stdout",
          "text": [
            "  Month   \"1958\"   \"1959\"   \"1960\"\n",
            "0   JAN      340      360      417\n",
            "1   FEB      318      342      391\n",
            "2   MAR      362      406      419\n",
            "3   APR      348      396      461\n",
            "4   MAY      363      420      472\n",
            "      Name  Age           City\n",
            "0    Alice   24       New York\n",
            "1      Bob   27  San Francisco\n",
            "2  Charlie   22    Los Angeles\n",
            "      Name  Age\n",
            "0    Alice   24\n",
            "1      Bob   27\n",
            "2  Charlie   22\n"
          ]
        }
      ]
    },
    {
      "cell_type": "markdown",
      "source": [
        "Q2. Given a Pandas DataFrame df with columns 'A', 'B', and 'C', write a Python function to re-index the\n",
        "DataFrame with a new index that starts from 1 and increments by 2 for each row."
      ],
      "metadata": {
        "id": "slFZTw-igq1r"
      }
    },
    {
      "cell_type": "code",
      "source": [
        "import pandas as pd\n",
        "\n",
        "# Sample DataFrame\n",
        "data = {'A': [1, 2, 3, 4], 'B': [5, 6, 7, 8], 'C': [9, 10, 11, 12]}\n",
        "df = pd.DataFrame(data)\n",
        "\n",
        "def reindex_dataframe(df):\n",
        "  new_index=pd.Index(range(1,2*len(df)+1,2))\n",
        "  df.index=new_index\n",
        "  return df\n",
        "\n",
        "df_reindexed=reindex_dataframe(df)\n",
        "print(df_reindexed)"
      ],
      "metadata": {
        "colab": {
          "base_uri": "https://localhost:8080/"
        },
        "id": "saAFabvbeZYz",
        "outputId": "e2e028b1-6cb8-42b9-d087-baaeb4a26843"
      },
      "execution_count": 3,
      "outputs": [
        {
          "output_type": "stream",
          "name": "stdout",
          "text": [
            "   A  B   C\n",
            "1  1  5   9\n",
            "3  2  6  10\n",
            "5  3  7  11\n",
            "7  4  8  12\n"
          ]
        }
      ]
    },
    {
      "cell_type": "markdown",
      "source": [
        "Q3. You have a Pandas DataFrame df with a column named 'Values'. Write a Python function that\n",
        "iterates over the DataFrame and calculates the sum of the first three values in the 'Values' column. The\n",
        "function should print the sum to the console."
      ],
      "metadata": {
        "id": "O_MbORIXnhNW"
      }
    },
    {
      "cell_type": "code",
      "source": [
        "import pandas as pd\n",
        "\n",
        "# Sample DataFrame\n",
        "data = {'Values': [10, 20, 30, 40, 50]}\n",
        "df = pd.DataFrame(data)\n",
        "\n",
        "# Function to calculate the sum of the first three values in the 'Values' column\n",
        "def sum_first_three(df):\n",
        "    # Get the first three values from the 'Values' column\n",
        "    first_three_values = df['Values'].iloc[:3]\n",
        "\n",
        "    # Calculate the sum\n",
        "    total_sum = first_three_values.sum()\n",
        "\n",
        "    # Print the sum\n",
        "    print(\"The sum of the first three values is:\", total_sum)\n",
        "\n",
        "# Call the function\n",
        "sum_first_three(df)"
      ],
      "metadata": {
        "id": "pi0ekFoPixUl",
        "colab": {
          "base_uri": "https://localhost:8080/"
        },
        "outputId": "f264cb18-62b9-4f3b-9a23-a7e610a52e42"
      },
      "execution_count": 4,
      "outputs": [
        {
          "output_type": "stream",
          "name": "stdout",
          "text": [
            "The sum of the first three values is: 60\n"
          ]
        }
      ]
    },
    {
      "cell_type": "markdown",
      "source": [
        "Q4.Given a Pandas DataFrame df with a column 'Text', write a Python function to create a new column\n",
        "'Word_Count' that contains the number of words in each row of the 'Text' column."
      ],
      "metadata": {
        "id": "8Nghu_2Zqcw_"
      }
    },
    {
      "cell_type": "code",
      "source": [
        "import pandas as pd\n",
        "\n",
        "#Sample Dataframe\n",
        "data={'Text':['this is a test','Python is user friendly','I am a guy']}\n",
        "df=pd.DataFrame(data)\n",
        "\n",
        "#Create a function called word_count\n",
        "def add_word_count(df):\n",
        "  df['Word_Count']=df['Text'].apply(lambda x:len(x.split()))\n",
        "  return df\n",
        "\n",
        "#print the result\n",
        "df_with_word_count=add_word_count(df)\n",
        "print(df_with_word_count)"
      ],
      "metadata": {
        "colab": {
          "base_uri": "https://localhost:8080/"
        },
        "id": "SwdkumNpqgxx",
        "outputId": "dc69b62e-5090-47ac-fcec-856f7130a01b"
      },
      "execution_count": 5,
      "outputs": [
        {
          "output_type": "stream",
          "name": "stdout",
          "text": [
            "                      Text  Word_Count\n",
            "0           this is a test           4\n",
            "1  Python is user friendly           4\n",
            "2               I am a guy           4\n"
          ]
        }
      ]
    },
    {
      "cell_type": "markdown",
      "source": [
        "Q5. How are DataFrame.size() and DataFrame.shape() different?"
      ],
      "metadata": {
        "id": "9Ut3hzPhslJ5"
      }
    },
    {
      "cell_type": "markdown",
      "source": [
        "size gives the total number of elements in the DataFrame (rows * columns).\n",
        "\n",
        "shape gives a tuple containing the number of rows and columns separately."
      ],
      "metadata": {
        "id": "LjgpmSDcsfzA"
      }
    },
    {
      "cell_type": "markdown",
      "source": [
        "Q6. Which function of pandas do we use to read an excel file?"
      ],
      "metadata": {
        "id": "4MnUfFgzswuF"
      }
    },
    {
      "cell_type": "code",
      "source": [
        "df=pd.read_excel('sample.xlsx')"
      ],
      "metadata": {
        "id": "BxChvWGt1nxH"
      },
      "execution_count": null,
      "outputs": []
    },
    {
      "cell_type": "markdown",
      "source": [
        "Q7. You have a Pandas DataFrame df that contains a column named 'Email' that contains email\n",
        "addresses in the format 'username@domain.com'. Write a Python function that creates a new column\n",
        "'Username' in df that contains only the username part of each email address.\n",
        "The username is the part of the email address that appears before the '@' symbol. For example, if the\n",
        "email address is 'john.doe@example.com', the 'Username' column should contain 'john.doe'. Your\n",
        "function should extract the username from each email address and store it in the new 'Username'\n",
        "column."
      ],
      "metadata": {
        "id": "f6fNVQk02I0h"
      }
    },
    {
      "cell_type": "code",
      "source": [
        "import pandas as pd\n",
        "\n",
        "def extract_username(df):\n",
        "  df['Username']=df['Email'].str.split('@').str[0]\n",
        "  return df\n",
        "\n",
        "# Example usage:\n",
        "data = {'Email': ['john.rice@example.com', 'jane.smith@mydomain.org', 'bob.jones@website.net']}\n",
        "df = pd.DataFrame(data)\n",
        "\n",
        "# Apply the function\n",
        "df = extract_username(df)\n",
        "\n",
        "print(df)"
      ],
      "metadata": {
        "id": "Fhlf6fs91u_z"
      },
      "execution_count": null,
      "outputs": []
    },
    {
      "cell_type": "markdown",
      "source": [
        "Q8. You have a Pandas DataFrame df with columns 'A', 'B', and 'C'. Write a Python function that selects\n",
        "all rows where the value in column 'A' is greater than 5 and the value in column 'B' is less than 10. The\n",
        "function should return a new DataFrame that contains only the selected rows.\n",
        "For example, if df contains the following values:\n",
        "\n",
        "A B C\n",
        "\n",
        "0 3 5 1\n",
        "\n",
        "1 8 2 7\n",
        "\n",
        "2 6 9 4\n",
        "\n",
        "3 2 3 5\n",
        "\n",
        "4 9 1 2\n",
        "\n",
        "Your function should select the following rows:\n",
        "A B C\n",
        "\n",
        "1 8 2 7\n",
        "\n",
        "4 9 1 2\n",
        "\n",
        "The function should return a new DataFrame that contains only the selected rows."
      ],
      "metadata": {
        "id": "RaueTOJZ3CuW"
      }
    },
    {
      "cell_type": "code",
      "source": [
        "import pandas as pd\n",
        "\n",
        "def filter_rows(df):\n",
        "    # Filter rows where A > 5 and B < 10\n",
        "    filtered_df = df[(df['A'] > 5) & (df['B'] < 10)]\n",
        "    return filtered_df\n",
        "\n",
        "# Example usage:\n",
        "data = {'A': [3, 8, 6, 2, 9],\n",
        "        'B': [5, 2, 9, 3, 1],\n",
        "        'C': [1, 7, 4, 5, 2]}\n",
        "\n",
        "df = pd.DataFrame(data)\n",
        "\n",
        "# Apply the function\n",
        "filtered_df = filter_rows(df)\n",
        "\n",
        "print(filtered_df)"
      ],
      "metadata": {
        "id": "VKcuPiOx3D6G"
      },
      "execution_count": null,
      "outputs": []
    },
    {
      "cell_type": "markdown",
      "source": [
        "Q9. Given a Pandas DataFrame df with a column 'Values', write a Python function to calculate the mean,\n",
        "median, and standard deviation of the values in the 'Values' column."
      ],
      "metadata": {
        "id": "h1SWTnvLFKL3"
      }
    },
    {
      "cell_type": "code",
      "source": [
        "import pandas as pd\n",
        "\n",
        "def calculate_statistics(df):\n",
        "    # Calculate the mean, median, and standard deviation of the 'Values' column\n",
        "    mean_value = df['Values'].mean()\n",
        "    median_value = df['Values'].median()\n",
        "    std_dev = df['Values'].std()\n",
        "\n",
        "    return mean_value, median_value, std_dev\n",
        "\n",
        "# Example usage:\n",
        "data = {'Values': [10, 20, 30, 40, 50]}\n",
        "df = pd.DataFrame(data)\n",
        "\n",
        "# Apply the function\n",
        "mean, median, std_dev = calculate_statistics(df)\n",
        "\n",
        "print(f\"Mean: {mean}\")\n",
        "print(f\"Median: {median}\")\n",
        "print(f\"Standard Deviation: {std_dev}\")"
      ],
      "metadata": {
        "id": "c7ARz_5REGv2"
      },
      "execution_count": null,
      "outputs": []
    },
    {
      "cell_type": "markdown",
      "source": [
        "Q10. Given a Pandas DataFrame df with a column 'Sales' and a column 'Date', write a Python function to\n",
        "create a new column 'MovingAverage' that contains the moving average of the sales for the past 7 days\n",
        "for each row in the DataFrame. The moving average should be calculated using a window of size 7 and\n",
        "should include the current day."
      ],
      "metadata": {
        "id": "6gYKaY-uFyF1"
      }
    },
    {
      "cell_type": "code",
      "source": [
        "import pandas as pd\n",
        "\n",
        "def add_moving_average(df):\n",
        "    # Ensure 'Date' is a datetime column for correct time-based operations\n",
        "    df['Date'] = pd.to_datetime(df['Date'])\n",
        "\n",
        "    # Sort the DataFrame by 'Date' to ensure correct order\n",
        "    df = df.sort_values('Date')\n",
        "\n",
        "    # Calculate the 7-day moving average for the 'Sales' column\n",
        "    df['MovingAverage'] = df['Sales'].rolling(window=7, min_periods=1).mean()\n",
        "\n",
        "    return df\n",
        "\n",
        "# Sample DataFrame\n",
        "data = {'Date': ['2025-03-01', '2025-03-02', '2025-03-03', '2025-03-04', '2025-03-05',\n",
        "                 '2025-03-06', '2025-03-07', '2025-03-08', '2025-03-09', '2025-03-10'],\n",
        "        'Sales': [10, 20, 30, 40, 50, 60, 70, 80, 90, 100]}\n",
        "\n",
        "df = pd.DataFrame(data)\n",
        "\n",
        "# Add the moving average column\n",
        "df = add_moving_average(df)\n",
        "\n",
        "print(df)"
      ],
      "metadata": {
        "id": "RjaZBp91FQA1"
      },
      "execution_count": null,
      "outputs": []
    },
    {
      "cell_type": "markdown",
      "source": [
        "Q11. You have a Pandas DataFrame df with a column 'Date'. Write a Python function that creates a new\n",
        "column 'Weekday' in the DataFrame. The 'Weekday' column should contain the weekday name (e.g.\n",
        "Monday, Tuesday) corresponding to each date in the 'Date' column.\n",
        "For example, if df contains the following values:\n",
        "Date\n",
        "\n",
        "0 2023-01-01\n",
        "\n",
        "1 2023-01-02\n",
        "\n",
        "2 2023-01-03\n",
        "\n",
        "3 2023-01-04\n",
        "\n",
        "4 2023-01-05\n",
        "\n",
        "Your function should create the following DataFrame:\n",
        "\n",
        "Date Weekday\n",
        "\n",
        "0 2023-01-01 Sunday\n",
        "\n",
        "1 2023-01-02 Monday\n",
        "\n",
        "2 2023-01-03 Tuesday\n",
        "\n",
        "3 2023-01-04 Wednesday\n",
        "\n",
        "4 2023-01-05 Thursday\n",
        "\n",
        "The function should return the modified DataFrame."
      ],
      "metadata": {
        "id": "XDGCG4rNIN5o"
      }
    },
    {
      "cell_type": "code",
      "source": [
        "import pandas as pd\n",
        "\n",
        "def add_weekday_column(df):\n",
        "    # Ensure 'Date' is a datetime column\n",
        "    df['Date'] = pd.to_datetime(df['Date'])\n",
        "\n",
        "    # Create the 'Weekday' column with the weekday name\n",
        "    df['Weekday'] = df['Date'].dt.strftime('%A')\n",
        "\n",
        "    return df\n",
        "\n",
        "# Sample DataFrame\n",
        "data = {'Date': ['2023-01-01', '2023-01-02', '2023-01-03', '2023-01-04', '2023-01-05']}\n",
        "df = pd.DataFrame(data)\n",
        "\n",
        "# Add the 'Weekday' column\n",
        "df = add_weekday_column(df)\n",
        "\n",
        "print(df)\n"
      ],
      "metadata": {
        "id": "7fDDez4zF8UI"
      },
      "execution_count": null,
      "outputs": []
    },
    {
      "cell_type": "markdown",
      "source": [
        "Q12.Given a Pandas DataFrame df with a column 'Date' that contains timestamps, write a Python\n",
        "function to select all rows where the date is between '2023-01-01' and '2023-01-31'."
      ],
      "metadata": {
        "id": "1w_AvxtALlHm"
      }
    },
    {
      "cell_type": "code",
      "source": [
        "import pandas as pd\n",
        "\n",
        "def filter_dates(df):\n",
        "    # Ensure 'Date' column is in datetime format\n",
        "    df['Date'] = pd.to_datetime(df['Date'])\n",
        "\n",
        "    # Filter rows where 'Date' is between '2023-01-01' and '2023-01-31'\n",
        "    start_date = '2023-01-01'\n",
        "    end_date = '2023-01-31'\n",
        "\n",
        "    mask = (df['Date'] >= start_date) & (df['Date'] <= end_date)\n",
        "\n",
        "    # Return filtered dataframe\n",
        "    return df[mask]\n",
        "    filtered_df = filter_dates(df)"
      ],
      "metadata": {
        "id": "8wVRpH8QLss8"
      },
      "execution_count": 16,
      "outputs": []
    },
    {
      "cell_type": "markdown",
      "source": [
        "Q13.To use the basic functions of pandas, what is the first and foremost necessary library that needs to\n",
        "be imported?"
      ],
      "metadata": {
        "id": "kbyd2UzwMsyF"
      }
    },
    {
      "cell_type": "code",
      "source": [
        "#The first and foremost necessary library to import when using the basic functions of pandas is the pandas library itself. You typically import it as follows:\n",
        "import pandas as pd"
      ],
      "metadata": {
        "id": "UD9P9WzvL-Tj"
      },
      "execution_count": null,
      "outputs": []
    }
  ]
}