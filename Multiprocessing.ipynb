{
  "nbformat": 4,
  "nbformat_minor": 0,
  "metadata": {
    "colab": {
      "provenance": [],
      "authorship_tag": "ABX9TyM3S/+0oXOhim6nxqVEp9Zq"
    },
    "kernelspec": {
      "name": "python3",
      "display_name": "Python 3"
    },
    "language_info": {
      "name": "python"
    }
  },
  "cells": [
    {
      "cell_type": "markdown",
      "source": [
        "Q1.What is multiprocessing in python? Why is it useful?"
      ],
      "metadata": {
        "id": "5Hf9uALbtvx7"
      }
    },
    {
      "cell_type": "markdown",
      "source": [
        "Multiprocessing in Python is a technique that allows you to run multiple processes concurrently, taking advantage of multiple CPU cores to perform tasks in parallel. This can help improve the performance of CPU-bound tasks, where the task requires heavy computation.\n",
        "\n",
        "Python's multiprocessing module provides a way to create multiple processes. Each process runs independently, with its own memory space and resources, meaning that the Global Interpreter Lock (GIL) doesn't limit performance in the same way it does with threading.\n",
        "\n",
        "Why is it Useful?\n",
        "\n",
        "Efficient Resource Utilization: Multiprocessing makes better use of the hardware available (i.e., multiple CPU cores). By running tasks in parallel, Python can distribute the load across cores, making the application more efficient and faster.\n",
        "\n",
        "Isolation: Each process in multiprocessing has its own memory space, which means there’s no risk of data corruption from other processes. This is helpful for parallel computations, where shared data could otherwise lead to issues like race conditions."
      ],
      "metadata": {
        "id": "dw5RBj9nt1Ku"
      }
    },
    {
      "cell_type": "markdown",
      "source": [
        "Q2. What are the differences between multiprocessing and multithreading?"
      ],
      "metadata": {
        "id": "uh7UDgHFxNhk"
      }
    },
    {
      "cell_type": "markdown",
      "source": [
        "Multiprocessing and multithreading are both techniques used to achieve concurrent execution, but they are quite different in how they handle tasks, especially in the context of Python.\n",
        "\n",
        "1. Execution Model\n",
        "\n",
        "Multiprocessing:\n",
        "Involves running multiple processes in parallel, with each process having its own memory space and running independently of others.\n",
        "\n",
        "Multithreading:\n",
        "Involves running multiple threads within the same process. Threads share the same memory space and resources of the parent process.\n",
        "\n",
        "2. Global Interpreter Lock (GIL)\n",
        "\n",
        "Multiprocessing:\n",
        "Each process in multiprocessing runs in its own memory space, with its own interpreter. Thus, the Global Interpreter Lock (GIL) is not a problem because each process runs independently.\n",
        "\n",
        "Multithreading:\n",
        "Threads in Python are subject to the GIL, which ensures that only one thread can execute Python bytecode at a time, even if there are multiple cores available.\n",
        "\n",
        "3. Memory Usage\n",
        "\n",
        "Multiprocessing:\n",
        "Each process has its own memory space, which means they do not share variables or objects in memory. However, this results in higher memory usage, as each process needs its own copy of the data.\n",
        "\n",
        "Multithreading:\n",
        "Threads share the same memory space, meaning they can easily communicate with each other by accessing shared variables. This results in lower memory overhead compared to multiprocessing."
      ],
      "metadata": {
        "id": "MOUCGYMpxNVR"
      }
    },
    {
      "cell_type": "markdown",
      "source": [
        "Q3.Write a python code to create a process using the multiprocessing module."
      ],
      "metadata": {
        "id": "nXbIdLRwU0fs"
      }
    },
    {
      "cell_type": "code",
      "source": [
        "#import the needed libraries\n",
        "import multiprocessing\n",
        "import time\n",
        "\n",
        "# Function that the process will execute\n",
        "def worker_function(name):\n",
        "    print(f'Worker {name} is starting...')\n",
        "    time.sleep(2)  # Simulate some work\n",
        "    print(f'Worker {name} has finished.')\n",
        "\n",
        "if __name__ == '__main__':\n",
        "    # Create a Process instance\n",
        "    process1 = multiprocessing.Process(target=worker_function, args=('A',))\n",
        "    process2 = multiprocessing.Process(target=worker_function, args=('B',))\n",
        "\n",
        "    # Start the processes\n",
        "    process1.start()\n",
        "    process2.start()\n",
        "\n",
        "    # Wait for both processes to finish\n",
        "    process1.join()\n",
        "    process2.join()\n",
        "\n",
        "    print(\"Both processes are finished.\")"
      ],
      "metadata": {
        "colab": {
          "base_uri": "https://localhost:8080/"
        },
        "id": "oa2tRSgJVKxz",
        "outputId": "84187449-4175-485f-e218-dd39ccaffadc"
      },
      "execution_count": 1,
      "outputs": [
        {
          "output_type": "stream",
          "name": "stdout",
          "text": [
            "Worker B is starting...Worker A is starting...\n",
            "\n",
            "Worker B has finished.Worker A has finished.\n",
            "\n",
            "Both processes are finished.\n"
          ]
        }
      ]
    },
    {
      "cell_type": "markdown",
      "source": [
        "Q4.What is a multiprocessing pool in python? Why is it used?"
      ],
      "metadata": {
        "id": "OtUt-J7NVzc_"
      }
    },
    {
      "cell_type": "markdown",
      "source": [
        "A multiprocessing Pool is a pool of worker processes that can be used to parallelize the execution of a function across multiple input values. It is part of the multiprocessing module in Python and provides a high-level interface for managing multiple processes.\n",
        "\n",
        "When you have a function that needs to be executed repeatedly with different arguments, a Pool allows you to process them concurrently using multiple processes, making it much faster for CPU-bound tasks, where parallelism can provide a significant performance boost.\n",
        "\n",
        "Why is it used?\n",
        "Efficiency: A Pool allows you to utilize multiple CPU cores, speeding up computation-heavy tasks.\n",
        "\n",
        "Simplification: The Pool class abstracts the complexity of creating and managing individual processes, which makes it easier to parallelize a function across many data points.\n",
        "\n",
        "Resource Management: The Pool class takes care of managing the worker processes, including scheduling and assigning tasks to them, making it easier to write clean and efficient parallel code."
      ],
      "metadata": {
        "id": "i8bvwFXZVzhD"
      }
    },
    {
      "cell_type": "markdown",
      "source": [
        "Q5. How can we create a pool of worker processes in python using the multiprocessing module?"
      ],
      "metadata": {
        "id": "GKbWqdZzWxbw"
      }
    },
    {
      "cell_type": "markdown",
      "source": [
        "To create a pool of worker processes in Python using the multiprocessing module, you can use the Pool class.\n",
        "\n",
        "Here's a step-by-step guide and an example of how to do it:\n",
        "\n",
        "Steps to Create a Pool of Worker Processes:\n",
        "\n",
        "Import the multiprocessing module: This module contains the Pool class that helps create a pool of worker processes.\n",
        "\n",
        "Define the function to be executed by each worker: This function will be applied to each item in the iterable.\n",
        "\n",
        "Create a Pool object: Specify the number of worker processes that will run concurrently.\n",
        "\n",
        "Use map, apply, or apply_async to assign tasks to the workers:\n",
        "\n",
        "map(): This is the simplest method to distribute tasks across the pool.\n",
        "\n",
        "It blocks the program until all processes finish.\n",
        "\n",
        "apply(): Executes a function with arguments in one of the processes.\n",
        "\n",
        "apply_async(): Similar to apply(), but it runs asynchronously and returns immediately."
      ],
      "metadata": {
        "id": "eoWu8tMAW0Qq"
      }
    },
    {
      "cell_type": "code",
      "source": [
        "import multiprocessing\n",
        "\n",
        "# Define the function to be executed by each worker\n",
        "def square_number(n):\n",
        "    return n * n\n",
        "\n",
        "if __name__ == '__main__':\n",
        "    # Create a Pool of 4 worker processes\n",
        "    with multiprocessing.Pool(processes=4) as pool:\n",
        "        # Use map to apply square_number function to a list of numbers\n",
        "        result = pool.map(square_number, [1, 2, 3, 4, 5, 6, 7, 8, 9])\n",
        "\n",
        "    print(result)  # Output: [1, 4, 9, 16, 25, 36, 49, 64, 81]"
      ],
      "metadata": {
        "colab": {
          "base_uri": "https://localhost:8080/"
        },
        "id": "TAq2TL2cYNAM",
        "outputId": "7bc1e9b2-b289-46a3-f304-80c44855a54c"
      },
      "execution_count": 2,
      "outputs": [
        {
          "output_type": "stream",
          "name": "stdout",
          "text": [
            "[1, 4, 9, 16, 25, 36, 49, 64, 81]\n"
          ]
        }
      ]
    },
    {
      "cell_type": "code",
      "source": [
        "#Example with apply_async for Asynchronous Execution:\n",
        "\n",
        "import multiprocessing\n",
        "\n",
        "def cube_number(n):\n",
        "    return n ** 3\n",
        "\n",
        "def print_result(result):\n",
        "    print(f\"Result: {result}\")\n",
        "\n",
        "if __name__ == '__main__':\n",
        "    with multiprocessing.Pool(processes=4) as pool:\n",
        "        # Using apply_async to run tasks asynchronously\n",
        "        result1 = pool.apply_async(cube_number, (2,))\n",
        "        result2 = pool.apply_async(cube_number, (3,))\n",
        "        result3 = pool.apply_async(cube_number, (4,))\n",
        "\n",
        "        # Using the callback function to print the results\n",
        "        result1.wait()  # Waits for result1 to finish\n",
        "        result2.wait()\n",
        "        result3.wait()\n",
        "\n",
        "    print(\"All processes are complete.\")"
      ],
      "metadata": {
        "colab": {
          "base_uri": "https://localhost:8080/"
        },
        "id": "7ayZ-RgYYxO5",
        "outputId": "9cbe3a68-3a14-434c-de29-4b05fc80ac6c"
      },
      "execution_count": 3,
      "outputs": [
        {
          "output_type": "stream",
          "name": "stdout",
          "text": [
            "All processes are complete.\n"
          ]
        }
      ]
    },
    {
      "cell_type": "markdown",
      "source": [
        "Q6.Write a python program to create 4 processes, each process should print a different number using the multiprocessing module in python."
      ],
      "metadata": {
        "id": "asKu4OqKZQBa"
      }
    },
    {
      "cell_type": "code",
      "source": [
        "import multiprocessing\n",
        "\n",
        "# Function that will be executed by each process\n",
        "def print_number(number):\n",
        "    print(f'Process {number} is printing: {number}')\n",
        "\n",
        "if __name__ == '__main__':\n",
        "    # Create 4 processes\n",
        "    process1 = multiprocessing.Process(target=print_number, args=(1,))\n",
        "    process2 = multiprocessing.Process(target=print_number, args=(2,))\n",
        "    process3 = multiprocessing.Process(target=print_number, args=(3,))\n",
        "    process4 = multiprocessing.Process(target=print_number, args=(4,))\n",
        "\n",
        "    # Start the processes\n",
        "    process1.start()\n",
        "    process2.start()\n",
        "    process3.start()\n",
        "    process4.start()\n",
        "\n",
        "    # Wait for all processes to finish\n",
        "    process1.join()\n",
        "    process2.join()\n",
        "    process3.join()\n",
        "    process4.join()\n",
        "\n",
        "    print(\"All processes have finished.\")"
      ],
      "metadata": {
        "colab": {
          "base_uri": "https://localhost:8080/"
        },
        "id": "PHo3KTplY5hc",
        "outputId": "46fcf897-bdc8-4653-d2ce-bbf5dfb9a627"
      },
      "execution_count": 4,
      "outputs": [
        {
          "output_type": "stream",
          "name": "stdout",
          "text": [
            "Process 1 is printing: 1\n",
            "Process 3 is printing: 3\n",
            "Process 2 is printing: 2\n",
            "Process 4 is printing: 4\n",
            "All processes have finished.\n"
          ]
        }
      ]
    },
    {
      "cell_type": "code",
      "source": [],
      "metadata": {
        "id": "SmYs_b_JZbQv"
      },
      "execution_count": null,
      "outputs": []
    }
  ]
}