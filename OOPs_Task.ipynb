{
  "nbformat": 4,
  "nbformat_minor": 0,
  "metadata": {
    "colab": {
      "provenance": [],
      "authorship_tag": "ABX9TyPDjZFQxHEVOJCj6s36LYw7"
    },
    "kernelspec": {
      "name": "python3",
      "display_name": "Python 3"
    },
    "language_info": {
      "name": "python"
    }
  },
  "cells": [
    {
      "cell_type": "markdown",
      "source": [
        "Q1.Create a vehicle class with an init method having instance variables as name_of_vehicle, max_speed and average_of_vehicle."
      ],
      "metadata": {
        "id": "sC_tbPLN1r2z"
      }
    },
    {
      "cell_type": "code",
      "execution_count": null,
      "metadata": {
        "colab": {
          "base_uri": "https://localhost:8080/"
        },
        "id": "u5VcUFol1kw6",
        "outputId": "c820918d-eb98-4c43-a18f-1063507a8895"
      },
      "outputs": [
        {
          "output_type": "stream",
          "name": "stdout",
          "text": [
            "Vehicle: Honda Civic, Max Speed: 200 km/h, Average: 18 km/l\n"
          ]
        }
      ],
      "source": [
        "class Vehicle:\n",
        "    def __init__(self, name_of_vehicle, max_speed, average_of_vehicle):\n",
        "        self.name_of_vehicle = name_of_vehicle\n",
        "        self.max_speed = max_speed\n",
        "        self.average_of_vehicle = average_of_vehicle\n",
        "\n",
        "    def display_info(self):\n",
        "        return f\"Vehicle: {self.name_of_vehicle}, Max Speed: {self.max_speed} km/h, Average: {self.average_of_vehicle} km/l\"\n",
        "\n",
        "# Example usage\n",
        "car = Vehicle(\"Honda Civic\", 200, 18)\n",
        "print(car.display_info())"
      ]
    },
    {
      "cell_type": "markdown",
      "source": [
        "Q2.Create a child class car from the vehicle class created in Que 1, which will inherit the vehicle class.\n",
        "Create a method named seating_capacity which takes capacity as an argument and returns the name of\n",
        "the vehicle and its seating capacity."
      ],
      "metadata": {
        "id": "0gWsHwkw2Oby"
      }
    },
    {
      "cell_type": "code",
      "source": [
        "class Vehicle:\n",
        "    def __init__(self, name_of_vehicle, max_speed, average_of_vehicle):\n",
        "        self.name_of_vehicle = name_of_vehicle\n",
        "        self.max_speed = max_speed\n",
        "        self.average_of_vehicle = average_of_vehicle\n",
        "\n",
        "    def display_info(self):\n",
        "        return f\"Vehicle: {self.name_of_vehicle}, Max Speed: {self.max_speed} km/h, Average: {self.average_of_vehicle} km/l\"\n",
        "\n",
        "class Car(Vehicle):\n",
        "    def seating_capacity(self, capacity):\n",
        "        return f\"{self.name_of_vehicle} has a seating capacity of {capacity} passengers.\"\n",
        "\n",
        "# Example usage\n",
        "car = Car(\"Toyota Corolla\", 180, 15)\n",
        "print(car.display_info())\n",
        "print(car.seating_capacity(5))"
      ],
      "metadata": {
        "id": "zZFMOZcW2Orn",
        "colab": {
          "base_uri": "https://localhost:8080/"
        },
        "outputId": "37fc1aa3-e856-4962-f80b-7f3cc13e2da9"
      },
      "execution_count": null,
      "outputs": [
        {
          "output_type": "stream",
          "name": "stdout",
          "text": [
            "Vehicle: Toyota Corolla, Max Speed: 180 km/h, Average: 15 km/l\n",
            "Toyota Corolla has a seating capacity of 5 passengers.\n"
          ]
        }
      ]
    },
    {
      "cell_type": "markdown",
      "source": [
        "Q3.What is multiple inheritance? Write a python code to demonstrate multiple inheritance."
      ],
      "metadata": {
        "id": "hlIEAK3JMLm-"
      }
    },
    {
      "cell_type": "code",
      "source": [
        "class Engine:\n",
        "    def __init__(self, engine_type):\n",
        "        self.engine_type = engine_type\n",
        "\n",
        "    def engine_info(self):\n",
        "        return f\"Engine Type: {self.engine_type}\"\n",
        "\n",
        "class HybridCar(Car, Engine):\n",
        "    def __init__(self, name_of_vehicle, max_speed, average_of_vehicle, engine_type):\n",
        "        Car.__init__(self, name_of_vehicle, max_speed, average_of_vehicle)\n",
        "        Engine.__init__(self, engine_type)"
      ],
      "metadata": {
        "id": "vreLQTSXMMOz"
      },
      "execution_count": null,
      "outputs": []
    },
    {
      "cell_type": "markdown",
      "source": [
        "Q4. What are getter and setter in python? Create a class and create a getter and a setter method in this class"
      ],
      "metadata": {
        "id": "EdC54kpbP056"
      }
    },
    {
      "cell_type": "code",
      "source": [
        "class SpeedControl:\n",
        "    def __init__(self, speed):\n",
        "        self._speed = speed  # Private attribute\n",
        "\n",
        "    @property\n",
        "    def speed(self):\n",
        "        return self._speed\n",
        "\n",
        "    @speed.setter\n",
        "    def speed(self, value):\n",
        "        if value < 0:\n",
        "            raise ValueError(\"Speed cannot be negative!\")\n",
        "        self._speed = value\n",
        "\n",
        "# Example usage\n",
        "speed_control = SpeedControl(60)\n",
        "print(\"Current Speed:\", speed_control.speed)\n",
        "\n",
        "speed_control.speed = 80  # Using setter\n",
        "print(\"Updated Speed:\", speed_control.speed)"
      ],
      "metadata": {
        "colab": {
          "base_uri": "https://localhost:8080/"
        },
        "id": "BWaPsRPGQD1m",
        "outputId": "62b2fbb5-fd3a-47f0-a977-21e97798a9bd"
      },
      "execution_count": null,
      "outputs": [
        {
          "output_type": "stream",
          "name": "stdout",
          "text": [
            "Current Speed: 60\n",
            "Updated Speed: 80\n"
          ]
        }
      ]
    },
    {
      "cell_type": "markdown",
      "source": [
        "Q5.What is method overriding in python? Write a python code to demonstrate method overriding."
      ],
      "metadata": {
        "id": "frj2EJL2SR5p"
      }
    },
    {
      "cell_type": "code",
      "source": [
        "class Vehicle:\n",
        "    def __init__(self, name_of_vehicle, max_speed, average_of_vehicle):\n",
        "        self.name_of_vehicle = name_of_vehicle\n",
        "        self.max_speed = max_speed\n",
        "        self.average_of_vehicle = average_of_vehicle\n",
        "\n",
        "    def display_info(self):\n",
        "        return f\"Vehicle: {self.name_of_vehicle}, Max Speed: {self.max_speed} km/h, Average: {self.average_of_vehicle} km/l\"\n",
        "\n",
        "class Car(Vehicle):\n",
        "    def seating_capacity(self, capacity):\n",
        "        return f\"{self.name_of_vehicle} has a seating capacity of {capacity} passengers.\"\n",
        "\n",
        "    def display_info(self):\n",
        "        return f\"Car: {self.name_of_vehicle}, Max Speed: {self.max_speed} km/h, Average: {self.average_of_vehicle} km/l\"\n",
        "\n",
        "class Engine:\n",
        "    def __init__(self, engine_type):\n",
        "        self.engine_type = engine_type\n",
        "\n",
        "    def engine_info(self):\n",
        "        return f\"Engine Type: {self.engine_type}\"\n",
        "\n",
        "class HybridCar(Car, Engine):\n",
        "    def __init__(self, name_of_vehicle, max_speed, average_of_vehicle, engine_type):\n",
        "        Car.__init__(self, name_of_vehicle, max_speed, average_of_vehicle)\n",
        "        Engine.__init__(self, engine_type)\n",
        "\n",
        "    def display_info(self):\n",
        "        return f\"Hybrid Car: {self.name_of_vehicle}, Max Speed: {self.max_speed} km/h, Average: {self.average_of_vehicle} km/l, Engine: {self.engine_type}\"\n",
        "\n",
        "class SpeedControl:\n",
        "    def __init__(self, speed):\n",
        "        self._speed = speed  # Private attribute\n",
        "\n",
        "    @property\n",
        "    def speed(self):\n",
        "        return self._speed\n",
        "\n",
        "    @speed.setter\n",
        "    def speed(self, value):\n",
        "        if value < 0:\n",
        "            raise ValueError(\"Speed cannot be negative!\")\n",
        "        self._speed = value\n",
        "\n",
        "# Example usage\n",
        "vehicle = Vehicle(\"Generic Vehicle\", 120, 18)\n",
        "car = Car(\"Sedan\", 180, 15)\n",
        "hybrid = HybridCar(\"Toyota Prius\", 160, 25, \"Hybrid\")\n",
        "\n",
        "print(vehicle.display_info())\n",
        "print(car.display_info())\n",
        "print(hybrid.display_info())"
      ],
      "metadata": {
        "colab": {
          "base_uri": "https://localhost:8080/"
        },
        "id": "Ekwcy-cIQEx1",
        "outputId": "4fbc129d-0c9e-4ed4-d9be-4902d38f6c4d"
      },
      "execution_count": null,
      "outputs": [
        {
          "output_type": "stream",
          "name": "stdout",
          "text": [
            "Vehicle: Generic Vehicle, Max Speed: 120 km/h, Average: 18 km/l\n",
            "Car: Sedan, Max Speed: 180 km/h, Average: 15 km/l\n",
            "Hybrid Car: Toyota Prius, Max Speed: 160 km/h, Average: 25 km/l, Engine: Hybrid\n",
            "Vehicle: Generic Vehicle, Max Speed: 120 km/h, Average: 18 km/l\n",
            "Car: Sedan, Max Speed: 180 km/h, Average: 15 km/l\n",
            "Hybrid Car: Toyota Prius, Max Speed: 160 km/h, Average: 25 km/l, Engine: Hybrid\n"
          ]
        }
      ]
    },
    {
      "cell_type": "code",
      "source": [],
      "metadata": {
        "id": "xZejUaRiShjR"
      },
      "execution_count": null,
      "outputs": []
    }
  ]
}