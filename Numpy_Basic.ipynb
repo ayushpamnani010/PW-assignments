{
  "nbformat": 4,
  "nbformat_minor": 0,
  "metadata": {
    "colab": {
      "provenance": [],
      "authorship_tag": "ABX9TyPJIm9Wzx8r82c0bYx8X4mr"
    },
    "kernelspec": {
      "name": "python3",
      "display_name": "Python 3"
    },
    "language_info": {
      "name": "python"
    }
  },
  "cells": [
    {
      "cell_type": "markdown",
      "source": [
        "Q1. Is there any difference in the data type of variables list_ and array_list? If there is then write a code\n",
        "to print the data types of both the variables."
      ],
      "metadata": {
        "id": "3f589Rg9FQmu"
      }
    },
    {
      "cell_type": "code",
      "source": [
        "#Consider the below code to answer further questions:\n",
        "\n",
        "import numpy as np\n",
        "list_ = ['1','2','3','4','5']\n",
        "array_list = np.array(object = list_)\n",
        "print(type(list_))\n",
        "print(type(array_list))"
      ],
      "metadata": {
        "colab": {
          "base_uri": "https://localhost:8080/"
        },
        "id": "BeaIuIyWFQ3X",
        "outputId": "92ad32c1-06a4-4208-e462-ac3c727ae480"
      },
      "execution_count": 5,
      "outputs": [
        {
          "output_type": "stream",
          "name": "stdout",
          "text": [
            "<class 'list'>\n",
            "<class 'numpy.ndarray'>\n"
          ]
        }
      ]
    },
    {
      "cell_type": "markdown",
      "source": [
        "Q2.Write a code to print the data type of each and every element of both the variables list_ and arra_list."
      ],
      "metadata": {
        "id": "C6YvjFqpGwvZ"
      }
    },
    {
      "cell_type": "code",
      "source": [
        "import numpy as np\n",
        "\n",
        "list_ = ['1', '2', '3', '4', '5']\n",
        "array_list = np.array(object=list_)\n",
        "\n",
        "# Print data type of each element in the list\n",
        "print(\"Data types of elements in list_:\")\n",
        "for item in list_:\n",
        "    print(f\"{item}: {type(item)}\")\n",
        "\n",
        "# Print data type of each element in the NumPy array\n",
        "print(\"\\nData types of elements in array_list:\")\n",
        "for item in array_list:\n",
        "    print(f\"{item}: {type(item)}\")"
      ],
      "metadata": {
        "colab": {
          "base_uri": "https://localhost:8080/"
        },
        "id": "VBYvtyboFprO",
        "outputId": "8234d934-7673-4332-8c30-9af8fcf654b8"
      },
      "execution_count": 6,
      "outputs": [
        {
          "output_type": "stream",
          "name": "stdout",
          "text": [
            "Data types of elements in list_:\n",
            "1: <class 'str'>\n",
            "2: <class 'str'>\n",
            "3: <class 'str'>\n",
            "4: <class 'str'>\n",
            "5: <class 'str'>\n",
            "\n",
            "Data types of elements in array_list:\n",
            "1: <class 'numpy.str_'>\n",
            "2: <class 'numpy.str_'>\n",
            "3: <class 'numpy.str_'>\n",
            "4: <class 'numpy.str_'>\n",
            "5: <class 'numpy.str_'>\n"
          ]
        }
      ]
    },
    {
      "cell_type": "markdown",
      "source": [
        "Q3. Considering the following changes in the variable, array_list:\n",
        "array_list = np.array(object = list_, dtype = int)\n",
        "\n",
        "Will there be any difference in the data type of the elements present in both the variables, list_ and\n",
        "\n",
        "arra_list? If so then print the data types of each and every element present in both the variables, list_\n",
        "\n",
        "and arra_list."
      ],
      "metadata": {
        "id": "JiN1-deFG35t"
      }
    },
    {
      "cell_type": "code",
      "source": [
        "import numpy as np\n",
        "\n",
        "list_ = [1, 2.5, '3']\n",
        "try:\n",
        "    array_list = np.array(object=list_, dtype=int)\n",
        "except ValueError as e:\n",
        "    print(\"Error while creating array_list:\", e)\n",
        "\n",
        "print(\"Data types in list_:\")\n",
        "for i, item in enumerate(list_):\n",
        "    print(f\"list_[{i}] = {item}, type = {type(item)}\")\n",
        "\n",
        "if 'array_list' in locals():\n",
        "    print(\"\\nData types in array_list:\")\n",
        "    for i, item in enumerate(array_list):\n",
        "        print(f\"array_list[{i}] = {item}, type = {type(item)}\")"
      ],
      "metadata": {
        "colab": {
          "base_uri": "https://localhost:8080/"
        },
        "id": "uquwGwjkGuRl",
        "outputId": "2c4d9122-0cdf-4532-f97e-80db15e8a407"
      },
      "execution_count": 7,
      "outputs": [
        {
          "output_type": "stream",
          "name": "stdout",
          "text": [
            "Data types in list_:\n",
            "list_[0] = 1, type = <class 'int'>\n",
            "list_[1] = 2.5, type = <class 'float'>\n",
            "list_[2] = 3, type = <class 'str'>\n",
            "\n",
            "Data types in array_list:\n",
            "array_list[0] = 1, type = <class 'numpy.int64'>\n",
            "array_list[1] = 2, type = <class 'numpy.int64'>\n",
            "array_list[2] = 3, type = <class 'numpy.int64'>\n"
          ]
        }
      ]
    },
    {
      "cell_type": "markdown",
      "source": [
        "Consider the below code to answer further questions:\n",
        "\n",
        "Q4. Write a code to find the following characteristics of variable, num_array:\n",
        "(i) shape\n",
        "(ii) size"
      ],
      "metadata": {
        "id": "fcO3Uz44Hnj_"
      }
    },
    {
      "cell_type": "code",
      "source": [
        "import numpy as np\n",
        "num_list = [ [ 1 , 2 , 3 ] , [ 4 , 5 , 6 ] ]\n",
        "num_array = np.array(object = num_list)\n",
        "print(num_array.shape)\n",
        "print(num_array.size)"
      ],
      "metadata": {
        "colab": {
          "base_uri": "https://localhost:8080/"
        },
        "id": "CTKzeFHWHlxk",
        "outputId": "4f6e9d00-44c2-432a-e419-c0e1d10f25a6"
      },
      "execution_count": 12,
      "outputs": [
        {
          "output_type": "stream",
          "name": "stdout",
          "text": [
            "(2, 3)\n",
            "6\n"
          ]
        }
      ]
    },
    {
      "cell_type": "markdown",
      "source": [
        "Q5. Write a code to create numpy array of 3*3 matrix containing zeros only, using a numpy array\n",
        "creation function."
      ],
      "metadata": {
        "id": "4JrIK-uwIZF_"
      }
    },
    {
      "cell_type": "code",
      "source": [
        "import numpy as np\n",
        "zeroes_matrix=np.zeros([3,3])\n",
        "print(zeroes_matrix)"
      ],
      "metadata": {
        "colab": {
          "base_uri": "https://localhost:8080/"
        },
        "id": "Iah3m5iuH0I_",
        "outputId": "d4ec53d5-3ca8-4c36-ca8c-36f463803174"
      },
      "execution_count": 15,
      "outputs": [
        {
          "output_type": "stream",
          "name": "stdout",
          "text": [
            "[[0. 0. 0.]\n",
            " [0. 0. 0.]\n",
            " [0. 0. 0.]]\n"
          ]
        }
      ]
    },
    {
      "cell_type": "markdown",
      "source": [
        "Q6. Create an identity matrix of shape (5,5) using numpy functions"
      ],
      "metadata": {
        "id": "kK4uHAnxI4eB"
      }
    },
    {
      "cell_type": "code",
      "source": [
        "import numpy as np\n",
        "identity_matrix=np.identity(5)\n",
        "print(identity_matrix)"
      ],
      "metadata": {
        "colab": {
          "base_uri": "https://localhost:8080/"
        },
        "id": "VBFcGrY7Itck",
        "outputId": "d0e3a5b1-4b7c-4fca-a100-03378ef77d64"
      },
      "execution_count": 18,
      "outputs": [
        {
          "output_type": "stream",
          "name": "stdout",
          "text": [
            "[[1. 0. 0. 0. 0.]\n",
            " [0. 1. 0. 0. 0.]\n",
            " [0. 0. 1. 0. 0.]\n",
            " [0. 0. 0. 1. 0.]\n",
            " [0. 0. 0. 0. 1.]]\n"
          ]
        }
      ]
    }
  ]
}